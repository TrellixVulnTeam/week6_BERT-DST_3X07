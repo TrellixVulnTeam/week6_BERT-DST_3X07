{
 "cells": [
  {
   "cell_type": "code",
   "execution_count": 1,
   "metadata": {},
   "outputs": [],
   "source": [
    "import json\n",
    "from collections import defaultdict"
   ]
  },
  {
   "cell_type": "code",
   "execution_count": 2,
   "metadata": {},
   "outputs": [],
   "source": [
    "def read_json(fp):\n",
    "    with open(fp, 'r', encoding='utf8') as json_file:\n",
    "        data = json.load(json_file)\n",
    "    return data\n",
    "\n",
    "def save_json(data, fp):\n",
    "    with open(fp, 'w', encoding='utf8') as json_file:\n",
    "        json.dump(data, json_file)\n"
   ]
  },
  {
   "cell_type": "code",
   "execution_count": 3,
   "metadata": {},
   "outputs": [],
   "source": [
    "type = ['test', 'train', 'val']\n",
    "filename = [f'readabe_{t}_data.json' for t in type]\n",
    "\n",
    "slots = set()\n",
    "values = defaultdict(set)"
   ]
  },
  {
   "cell_type": "code",
   "execution_count": 4,
   "metadata": {},
   "outputs": [],
   "source": [
    "for file in filename:\n",
    "    datas = read_json(file)\n",
    "    for ob in datas:\n",
    "        for t in ob['turns']:\n",
    "            for dialog_act in t[\"dialog_act\"]:\n",
    "                 if dialog_act[-2] not in ['', ' ', 'none', None]:\n",
    "#                     print(dialog_act[-2] + ':' + dialog_act[-1])\n",
    "                    slots.add(dialog_act[-2])\n",
    "                    if dialog_act[-1] not in ['', ' ', 'none', None]:\n",
    "                        values[dialog_act[-2]].add(dialog_act[-1].rstrip('元')) "
   ]
  },
  {
   "cell_type": "code",
   "execution_count": 8,
   "metadata": {},
   "outputs": [],
   "source": [
    "slots = list(slots)\n",
    "for key in values.keys():\n",
    "    values[key] = list(values[key])"
   ]
  },
  {
   "cell_type": "code",
   "execution_count": 9,
   "metadata": {},
   "outputs": [],
   "source": [
    "ontology = {\n",
    "    'slots': slots,\n",
    "    'values': values\n",
    "}\n",
    "save_json(ontology, 'ontology.json')"
   ]
  },
  {
   "cell_type": "code",
   "execution_count": 37,
   "metadata": {},
   "outputs": [
    {
     "data": {
      "text/plain": [
       "[0, 2, 4, 6, 8]"
      ]
     },
     "execution_count": 37,
     "metadata": {},
     "output_type": "execute_result"
    }
   ],
   "source": [
    "alist = list(range(0, 10, 2))\n",
    "# alist[-1::-1]\n",
    "alist + []"
   ]
  },
  {
   "cell_type": "code",
   "execution_count": 32,
   "metadata": {},
   "outputs": [
    {
     "data": {
      "text/plain": [
       "0"
      ]
     },
     "execution_count": 32,
     "metadata": {},
     "output_type": "execute_result"
    }
   ],
   "source": [
    "alist[-1::-1].index(9)"
   ]
  }
 ],
 "metadata": {
  "kernelspec": {
   "display_name": "Python 3",
   "language": "python",
   "name": "python3"
  },
  "language_info": {
   "codemirror_mode": {
    "name": "ipython",
    "version": 3
   },
   "file_extension": ".py",
   "mimetype": "text/x-python",
   "name": "python",
   "nbconvert_exporter": "python",
   "pygments_lexer": "ipython3",
   "version": "3.7.6"
  }
 },
 "nbformat": 4,
 "nbformat_minor": 4
}
